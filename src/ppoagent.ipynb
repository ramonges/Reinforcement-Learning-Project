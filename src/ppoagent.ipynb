{
 "cells": [
  {
   "cell_type": "markdown",
   "metadata": {},
   "source": [
    "## Libraries"
   ]
  },
  {
   "cell_type": "code",
   "execution_count": 1,
   "metadata": {},
   "outputs": [
    {
     "name": "stderr",
     "output_type": "stream",
     "text": [
      "2024-04-05 16:27:33.242020: I tensorflow/core/platform/cpu_feature_guard.cc:210] This TensorFlow binary is optimized to use available CPU instructions in performance-critical operations.\n",
      "To enable the following instructions: AVX2 FMA, in other operations, rebuild TensorFlow with the appropriate compiler flags.\n"
     ]
    },
    {
     "data": {
      "text/plain": [
       "<torch._C.Generator at 0x147ca0350>"
      ]
     },
     "execution_count": 1,
     "metadata": {},
     "output_type": "execute_result"
    }
   ],
   "source": [
    "# Load libraries\n",
    "import numpy as np\n",
    "import pandas as pd\n",
    "import matplotlib.pyplot as plt\n",
    "from pandas import read_csv, set_option\n",
    "from pandas.plotting import scatter_matrix\n",
    "import seaborn as sns\n",
    "from sklearn.preprocessing import StandardScaler\n",
    "import datetime\n",
    "import math\n",
    "from numpy.random import choice\n",
    "import random\n",
    "\n",
    "from keras import layers, models, optimizers\n",
    "from keras import backend as K\n",
    "from collections import namedtuple, deque\n",
    "import yfinance as yf\n",
    "import torch\n",
    "\n",
    "# set the seed for reproducibility\n",
    "np.random.seed(11)\n",
    "random.seed(11)\n",
    "torch.manual_seed(11)"
   ]
  },
  {
   "cell_type": "markdown",
   "metadata": {},
   "source": [
    "## Dataset Gaz"
   ]
  },
  {
   "cell_type": "code",
   "execution_count": 2,
   "metadata": {},
   "outputs": [
    {
     "name": "stderr",
     "output_type": "stream",
     "text": [
      "[*********************100%%**********************]  1 of 1 completed\n"
     ]
    }
   ],
   "source": [
    "# Essayer DJI  (Dow Johns)\n",
    "stock = 'BZ=F'\n",
    "start = '2007-07-30'\n",
    "end = '2024-04-01'\n",
    "\n",
    "dataset = yf.download(stock, start, end)"
   ]
  },
  {
   "cell_type": "markdown",
   "metadata": {},
   "source": [
    "## Data cleaning"
   ]
  },
  {
   "cell_type": "code",
   "execution_count": 3,
   "metadata": {},
   "outputs": [],
   "source": [
    "# Diable the warnings\n",
    "import warnings\n",
    "warnings.filterwarnings('ignore')"
   ]
  },
  {
   "cell_type": "code",
   "execution_count": 4,
   "metadata": {},
   "outputs": [
    {
     "data": {
      "text/plain": [
       "(4137, 6)"
      ]
     },
     "execution_count": 4,
     "metadata": {},
     "output_type": "execute_result"
    }
   ],
   "source": [
    "dataset.shape"
   ]
  },
  {
   "cell_type": "code",
   "execution_count": 5,
   "metadata": {},
   "outputs": [
    {
     "data": {
      "text/html": [
       "<div>\n",
       "<style scoped>\n",
       "    .dataframe tbody tr th:only-of-type {\n",
       "        vertical-align: middle;\n",
       "    }\n",
       "\n",
       "    .dataframe tbody tr th {\n",
       "        vertical-align: top;\n",
       "    }\n",
       "\n",
       "    .dataframe thead th {\n",
       "        text-align: right;\n",
       "    }\n",
       "</style>\n",
       "<table border=\"1\" class=\"dataframe\">\n",
       "  <thead>\n",
       "    <tr style=\"text-align: right;\">\n",
       "      <th></th>\n",
       "      <th>Open</th>\n",
       "      <th>High</th>\n",
       "      <th>Low</th>\n",
       "      <th>Close</th>\n",
       "      <th>Adj Close</th>\n",
       "      <th>Volume</th>\n",
       "    </tr>\n",
       "    <tr>\n",
       "      <th>Date</th>\n",
       "      <th></th>\n",
       "      <th></th>\n",
       "      <th></th>\n",
       "      <th></th>\n",
       "      <th></th>\n",
       "      <th></th>\n",
       "    </tr>\n",
       "  </thead>\n",
       "  <tbody>\n",
       "    <tr>\n",
       "      <th>2007-07-30</th>\n",
       "      <td>75.849998</td>\n",
       "      <td>76.529999</td>\n",
       "      <td>75.440002</td>\n",
       "      <td>75.739998</td>\n",
       "      <td>75.739998</td>\n",
       "      <td>2575</td>\n",
       "    </tr>\n",
       "    <tr>\n",
       "      <th>2007-07-31</th>\n",
       "      <td>75.699997</td>\n",
       "      <td>77.169998</td>\n",
       "      <td>75.669998</td>\n",
       "      <td>77.050003</td>\n",
       "      <td>77.050003</td>\n",
       "      <td>3513</td>\n",
       "    </tr>\n",
       "    <tr>\n",
       "      <th>2007-08-01</th>\n",
       "      <td>77.000000</td>\n",
       "      <td>77.059998</td>\n",
       "      <td>74.860001</td>\n",
       "      <td>75.349998</td>\n",
       "      <td>75.349998</td>\n",
       "      <td>3930</td>\n",
       "    </tr>\n",
       "    <tr>\n",
       "      <th>2007-08-02</th>\n",
       "      <td>75.220001</td>\n",
       "      <td>76.209999</td>\n",
       "      <td>74.269997</td>\n",
       "      <td>75.760002</td>\n",
       "      <td>75.760002</td>\n",
       "      <td>6180</td>\n",
       "    </tr>\n",
       "    <tr>\n",
       "      <th>2007-08-03</th>\n",
       "      <td>75.389999</td>\n",
       "      <td>76.000000</td>\n",
       "      <td>74.529999</td>\n",
       "      <td>74.750000</td>\n",
       "      <td>74.750000</td>\n",
       "      <td>4387</td>\n",
       "    </tr>\n",
       "  </tbody>\n",
       "</table>\n",
       "</div>"
      ],
      "text/plain": [
       "                 Open       High        Low      Close  Adj Close  Volume\n",
       "Date                                                                     \n",
       "2007-07-30  75.849998  76.529999  75.440002  75.739998  75.739998    2575\n",
       "2007-07-31  75.699997  77.169998  75.669998  77.050003  77.050003    3513\n",
       "2007-08-01  77.000000  77.059998  74.860001  75.349998  75.349998    3930\n",
       "2007-08-02  75.220001  76.209999  74.269997  75.760002  75.760002    6180\n",
       "2007-08-03  75.389999  76.000000  74.529999  74.750000  74.750000    4387"
      ]
     },
     "execution_count": 5,
     "metadata": {},
     "output_type": "execute_result"
    }
   ],
   "source": [
    "set_option('display.width', 100)\n",
    "dataset.head(5)"
   ]
  },
  {
   "cell_type": "code",
   "execution_count": 6,
   "metadata": {},
   "outputs": [
    {
     "data": {
      "text/plain": [
       "<Axes: xlabel='Date'>"
      ]
     },
     "execution_count": 6,
     "metadata": {},
     "output_type": "execute_result"
    },
    {
     "data": {
      "image/png": "[encoded data removed]",
      "text/plain": [
       "<Figure size 640x480 with 1 Axes>"
      ]
     },
     "metadata": {},
     "output_type": "display_data"
    }
   ],
   "source": [
    "dataset['Close'].plot()"
   ]
  },
  {
   "cell_type": "code",
   "execution_count": 7,
   "metadata": {},
   "outputs": [
    {
     "name": "stdout",
     "output_type": "stream",
     "text": [
      "Null Values = False\n"
     ]
    }
   ],
   "source": [
    "# Checking for any null values and removing the null values'''\n",
    "print('Null Values =',dataset.isnull().values.any())"
   ]
  },
  {
   "cell_type": "code",
   "execution_count": 8,
   "metadata": {},
   "outputs": [
    {
     "data": {
      "text/html": [
       "<div>\n",
       "<style scoped>\n",
       "    .dataframe tbody tr th:only-of-type {\n",
       "        vertical-align: middle;\n",
       "    }\n",
       "\n",
       "    .dataframe tbody tr th {\n",
       "        vertical-align: top;\n",
       "    }\n",
       "\n",
       "    .dataframe thead th {\n",
       "        text-align: right;\n",
       "    }\n",
       "</style>\n",
       "<table border=\"1\" class=\"dataframe\">\n",
       "  <thead>\n",
       "    <tr style=\"text-align: right;\">\n",
       "      <th></th>\n",
       "      <th>Open</th>\n",
       "      <th>High</th>\n",
       "      <th>Low</th>\n",
       "      <th>Close</th>\n",
       "      <th>Adj Close</th>\n",
       "      <th>Volume</th>\n",
       "    </tr>\n",
       "    <tr>\n",
       "      <th>Date</th>\n",
       "      <th></th>\n",
       "      <th></th>\n",
       "      <th></th>\n",
       "      <th></th>\n",
       "      <th></th>\n",
       "      <th></th>\n",
       "    </tr>\n",
       "  </thead>\n",
       "  <tbody>\n",
       "    <tr>\n",
       "      <th>2007-07-30</th>\n",
       "      <td>75.849998</td>\n",
       "      <td>76.529999</td>\n",
       "      <td>75.440002</td>\n",
       "      <td>75.739998</td>\n",
       "      <td>75.739998</td>\n",
       "      <td>2575</td>\n",
       "    </tr>\n",
       "    <tr>\n",
       "      <th>2007-07-31</th>\n",
       "      <td>75.699997</td>\n",
       "      <td>77.169998</td>\n",
       "      <td>75.669998</td>\n",
       "      <td>77.050003</td>\n",
       "      <td>77.050003</td>\n",
       "      <td>3513</td>\n",
       "    </tr>\n",
       "  </tbody>\n",
       "</table>\n",
       "</div>"
      ],
      "text/plain": [
       "                 Open       High        Low      Close  Adj Close  Volume\n",
       "Date                                                                     \n",
       "2007-07-30  75.849998  76.529999  75.440002  75.739998  75.739998    2575\n",
       "2007-07-31  75.699997  77.169998  75.669998  77.050003  77.050003    3513"
      ]
     },
     "execution_count": 8,
     "metadata": {},
     "output_type": "execute_result"
    }
   ],
   "source": [
    "# Fill the missing values with the last value available in the dataset.\n",
    "dataset=dataset.fillna(method='ffill')\n",
    "dataset.head(2)"
   ]
  },
  {
   "cell_type": "markdown",
   "metadata": {},
   "source": [
    "## Feature engineering"
   ]
  },
  {
   "cell_type": "code",
   "execution_count": 9,
   "metadata": {},
   "outputs": [
    {
     "data": {
      "text/plain": [
       "Index(['Open', 'High', 'Low', 'Close', 'Adj Close', 'Volume', 'MACD', 'Signal_Line', 'RSI'], dtype='object')"
      ]
     },
     "execution_count": 9,
     "metadata": {},
     "output_type": "execute_result"
    }
   ],
   "source": [
    "# Ajouter Indicateurs RSI MACD\n",
    "import numpy as np\n",
    "import pandas as pd\n",
    "\n",
    "def calculate_macd(data, short_window=12, long_window=26, signal_window=9):\n",
    "    short_ema = data['Close'].ewm(span=short_window, adjust=False).mean()\n",
    "    long_ema = data['Close'].ewm(span=long_window, adjust=False).mean()\n",
    "    data['MACD'] = short_ema - long_ema\n",
    "    data['Signal_Line'] = data['MACD'].ewm(span=signal_window, adjust=False).mean()\n",
    "\n",
    "def calculate_rsi(data, window=14):\n",
    "    delta = data['Close'].diff(1)\n",
    "    gain = (delta.where(delta > 0, 0)).rolling(window=window).mean()\n",
    "    loss = (-delta.where(delta < 0, 0)).rolling(window=window).mean()\n",
    "    RS = gain / loss\n",
    "    data['RSI'] = 100 - (100 / (1 + RS))\n",
    "\n",
    "calculate_macd(dataset)\n",
    "calculate_rsi(dataset)\n",
    "# Drop NaN values that were introduced by the calculations\n",
    "dataset.dropna(inplace=True)\n",
    "\n",
    "dataset.columns\n"
   ]
  },
  {
   "cell_type": "markdown",
   "metadata": {},
   "source": [
    "## Split training & test set "
   ]
  },
  {
   "cell_type": "code",
   "execution_count": 10,
   "metadata": {},
   "outputs": [],
   "source": [
    "X=list(dataset[\"Close\"])\n",
    "X=[float(x) for x in X]"
   ]
  },
  {
   "cell_type": "code",
   "execution_count": 11,
   "metadata": {},
   "outputs": [],
   "source": [
    "validation_size = 0.2\n",
    "\n",
    "train_size = int(len(X) * (1-validation_size))\n",
    "X_train, X_test = X[0:train_size], X[train_size:len(X)]"
   ]
  },
  {
   "cell_type": "markdown",
   "metadata": {},
   "source": [
    "## PPO algorithm"
   ]
  },
  {
   "cell_type": "code",
   "execution_count": 12,
   "metadata": {},
   "outputs": [],
   "source": [
    "import torch\n",
    "import numpy as np\n",
    "\n",
    "class PPOMemory:\n",
    "    def __init__(self, batch_size):\n",
    "        self.batch_size = batch_size\n",
    "        self.memory = [] # A single list to store all memories\n",
    "\n",
    "    def generate_batches(self):\n",
    "        # Prepare the data for training\n",
    "        state_arr, action_arr, probs_arr, vals_arr, reward_arr, dones_arr = zip(*self.memory)\n",
    "        \n",
    "        # Convert lists to PyTorch tensors\n",
    "        states = torch.stack(state_arr)\n",
    "        actions = torch.stack(action_arr)\n",
    "        probs = torch.stack(probs_arr)\n",
    "        vals = torch.stack(vals_arr)\n",
    "        rewards = torch.tensor(reward_arr, dtype=torch.float32)\n",
    "        dones = torch.tensor(dones_arr, dtype=torch.float32)\n",
    "        \n",
    "        # Create batches\n",
    "        total_length = len(self.memory)\n",
    "        indices = torch.randperm(total_length)\n",
    "        \n",
    "        batches = [{\n",
    "            'states': states[indices[start:start+self.batch_size]],\n",
    "            'actions': actions[indices[start:start+self.batch_size]],\n",
    "            'old_probs': probs[indices[start:start+self.batch_size]],\n",
    "            'vals': vals[indices[start:start+self.batch_size]],\n",
    "            'rewards': rewards[indices[start:start+self.batch_size]],\n",
    "            'dones': dones[indices[start:start+self.batch_size]],\n",
    "        } for start in range(0, total_length, self.batch_size)]\n",
    "        \n",
    "        return batches\n",
    "\n",
    "    def store_memory(self, state, action, old_prob, val, reward, done):\n",
    "        self.memory.append((state, action, old_prob, val, reward, done))\n",
    "\n",
    "    def clear_memory(self):\n",
    "        self.memory.clear()\n"
   ]
  },
  {
   "cell_type": "code",
   "execution_count": 13,
   "metadata": {},
   "outputs": [],
   "source": [
    "import torch\n",
    "import torch.nn as nn\n",
    "import torch.optim as optim\n",
    "import torch.nn.functional as F\n",
    "from torch.distributions import Categorical\n",
    "\n",
    "class Actor(nn.Module):\n",
    "    def __init__(self, state_dim, action_dim):\n",
    "        super(Actor, self).__init__()\n",
    "        self.fc1 = nn.Linear(state_dim, 64)\n",
    "        self.fc2 = nn.Linear(64, 64)\n",
    "        self.fc3 = nn.Linear(64, action_dim)\n",
    "    \n",
    "    def forward(self, state):\n",
    "        x = F.relu(self.fc1(state))\n",
    "        x = F.relu(self.fc2(x))\n",
    "        probabilities = F.softmax(self.fc3(x), dim=-1)\n",
    "        return probabilities\n",
    "\n",
    "class Critic(nn.Module):\n",
    "    def __init__(self, state_dim):\n",
    "        super(Critic, self).__init__()\n",
    "        self.fc1 = nn.Linear(state_dim, 64)\n",
    "        self.fc2 = nn.Linear(64, 64)\n",
    "        self.fc3 = nn.Linear(64, 1)\n",
    "    \n",
    "    def forward(self, state):\n",
    "        x = F.relu(self.fc1(state))\n",
    "        x = F.relu(self.fc2(x))\n",
    "        value = self.fc3(x)\n",
    "        return value"
   ]
  },
  {
   "cell_type": "markdown",
   "metadata": {},
   "source": [
    "## Agent"
   ]
  },
  {
   "cell_type": "code",
   "execution_count": 14,
   "metadata": {},
   "outputs": [],
   "source": [
    "\n",
    "\n",
    "\n",
    "class Agent:\n",
    "    def __init__(self, state_dim, action_dim, gamma=0.7, alpha=0.0001, gae_lambda=0.98, policy_clip=0.8, batch_size=64, n_epochs=10):\n",
    "        self.gamma = gamma # Discount factor : How much to weight immediate rewards\n",
    "        self.policy_clip = policy_clip # Clipping parameter epsilon: How much to clip the ratio in PPO (to prevent too large policy update)\n",
    "        self.n_epochs = n_epochs\n",
    "        self.gae_lambda = gae_lambda # Lambda parameter for Generalized Advantage Estimation: How much to weight future rewards\n",
    "        self.batch_size = batch_size \n",
    "\n",
    "        \n",
    "        self.actor = Actor(state_dim, action_dim)\n",
    "        self.critic = Critic(state_dim)\n",
    "        self.actor_optimizer = optim.Adam(self.actor.parameters(), lr=alpha)\n",
    "        self.critic_optimizer = optim.Adam(self.critic.parameters(), lr=alpha)\n",
    "        self.memory = []\n",
    "    \n",
    "    def evaluate(self, state, action):\n",
    "        action_probs = self.actor(state)\n",
    "        dist = Categorical(probs=action_probs)\n",
    "\n",
    "        action_logprobs = dist.log_prob(action)\n",
    "        dist_entropy = dist.entropy()\n",
    "        state_value = self.critic(state)\n",
    "        \n",
    "        return action_logprobs, torch.squeeze(state_value), dist_entropy\n",
    "\n",
    "\n",
    "\n",
    "    def act(self, state):\n",
    "        if not isinstance(state, torch.Tensor):\n",
    "            state = torch.tensor(state, dtype=torch.float).unsqueeze(0)\n",
    "        probabilities = self.actor(state)\n",
    "        dist = Categorical(probs=probabilities)\n",
    "        action = dist.sample()\n",
    "        return action.item(), dist.log_prob(action).item()\n",
    "\n",
    "    \n",
    "    \n",
    "    def store_transition(self, state, action, log_prob, reward, done):\n",
    "        self.memory.append((state, action, log_prob, reward, done))\n",
    "\n",
    "    \n",
    "    \n",
    "    def learn(self):\n",
    "        rewards = []\n",
    "        is_terminals = []\n",
    "        old_states = []\n",
    "        old_actions = []\n",
    "        old_logprobs = []\n",
    "\n",
    "        # Extract information from memory\n",
    "        for state, action, log_prob, reward, done in self.memory:\n",
    "            old_states.append(state)\n",
    "            old_actions.append(action)\n",
    "            old_logprobs.append(log_prob)\n",
    "            rewards.append(reward)\n",
    "            is_terminals.append(done)\n",
    "\n",
    "        # prints to debug the shape of the tensors\n",
    "        # print(\"Before stack\")\n",
    "        # print(\"old_states\", old_states)\n",
    "        # print(\"old_actions\", old_actions)\n",
    "        # print(\"old_logprobs\", old_logprobs)\n",
    "\n",
    "        old_states = torch.stack(old_states)\n",
    "        # Convert each action and probs to a tensor and then stack\n",
    "        old_actions = torch.stack([torch.tensor(a, dtype=torch.long) for a in old_actions])\n",
    "        old_logprobs = torch.stack([torch.tensor(lp, dtype=torch.float) for lp in old_logprobs])\n",
    "        \n",
    "        # Normalize the rewards\n",
    "        rewards = torch.tensor(rewards, dtype=torch.float)\n",
    "        rewards = (rewards - rewards.mean()) / (rewards.std() + 1e-7)\n",
    "\n",
    "        # Convert is_terminals to tensor\n",
    "        is_terminals = torch.tensor(is_terminals, dtype=torch.float)\n",
    "\n",
    "        # Calculating the advantages\n",
    "        advantages = []\n",
    "        prev_advantage = 0\n",
    "        for t in reversed(range(len(rewards))):\n",
    "            if is_terminals[t]:\n",
    "                delta = rewards[t] - self.critic(old_states[t])\n",
    "                prev_advantage = delta\n",
    "            else:\n",
    "                delta = rewards[t] + self.gamma * self.critic(old_states[t + 1]) - self.critic(old_states[t])\n",
    "                prev_advantage = delta + self.gamma * self.gae_lambda * prev_advantage\n",
    "            advantages.insert(0, prev_advantage)\n",
    "        advantages = torch.tensor(advantages, dtype=torch.float)\n",
    "        \n",
    "        # Normalize advantages\n",
    "        advantages = (advantages - advantages.mean()) / (advantages.std() + 1e-7)\n",
    "\n",
    "        # Optimize policy for K epochs\n",
    "        for _ in range(self.n_epochs):\n",
    "            # Evaluating old actions and values\n",
    "            logprobs, state_values, dist_entropy = self.evaluate(old_states, old_actions)\n",
    "            \n",
    "            # Finding the ratio (pi_theta / pi_theta_old)\n",
    "            ratios = torch.exp(logprobs - old_logprobs.detach())\n",
    "\n",
    "            # Finding Surrogate Loss\n",
    "            surr1 = ratios * advantages\n",
    "            surr2 = torch.clamp(ratios, 1-self.policy_clip, 1+self.policy_clip) * advantages\n",
    "\n",
    "            # Final loss of clipped objective PPO\n",
    "            loss = -torch.min(surr1, surr2) + 0.5 * (state_values - rewards)**2 - 0.01 * dist_entropy\n",
    "\n",
    "            # Take gradient step\n",
    "            self.actor_optimizer.zero_grad()\n",
    "            self.critic_optimizer.zero_grad()\n",
    "            loss.mean().backward()\n",
    "            self.actor_optimizer.step()\n",
    "            self.critic_optimizer.step()\n",
    "\n",
    "        \n",
    "        self.memory.clear()\n",
    "        "
   ]
  },
  {
   "cell_type": "code",
   "execution_count": 15,
   "metadata": {},
   "outputs": [],
   "source": [
    "import torch\n",
    "import numpy as np\n",
    "\n",
    "class TradingEnvironment:\n",
    "    def __init__(self, data, initial_balance=10000 , buy_fee=0.001, sell_fee=0.005):\n",
    "        self.data = data\n",
    "        self.initial_balance = initial_balance\n",
    "        self.reset()\n",
    "        \n",
    "        self.buy_fee = buy_fee\n",
    "        self.sell_fee = sell_fee\n",
    "    \n",
    "    def step(self, action):\n",
    "        done = False\n",
    "        self.stock_price = self.data[self.current_step]\n",
    "        \n",
    "        if action == 1: # Buy\n",
    "            if self.total_balance >= self.stock_price + self.stock_price * self.buy_fee:\n",
    "                self.stock_owned += 1\n",
    "                self.total_balance -= self.stock_price + self.stock_price * self.buy_fee\n",
    "\n",
    "                \n",
    "        elif action == 2: # Sell\n",
    "            if self.stock_owned > 0:\n",
    "                self.stock_owned -= 1\n",
    "                self.total_balance += self.stock_price - self.stock_price * self.sell_fee\n",
    "        \n",
    "        self.current_step += 1\n",
    "        if self.current_step >= len(self.data) - 1:\n",
    "            done = True\n",
    "        \n",
    "        next_state = self._get_obs()\n",
    "        reward = self.total_balance - self.history[-1] # Reward is the change in balance\n",
    "        self.history.append(self.total_balance)\n",
    "        \n",
    "        return next_state, reward, done, {}\n",
    "    \n",
    "    def reset(self):\n",
    "        self.current_step = 0\n",
    "        self.total_balance = self.initial_balance\n",
    "        self.stock_owned = 0\n",
    "        self.stock_price = self.data[0]\n",
    "        self.history = [self.total_balance]\n",
    "        return self._get_obs()\n",
    "    \n",
    "    def _get_obs(self):\n",
    "        # Normalize state components for better learning stability\n",
    "        balance_norm = self.total_balance / self.initial_balance\n",
    "        price_norm = self.stock_price / self.data[0]\n",
    "        state = np.array([balance_norm, price_norm, self.stock_owned], dtype=np.float32)\n",
    "        return torch.tensor(state, dtype=torch.float)\n",
    "    \n",
    "    def render(self):\n",
    "        pass\n"
   ]
  },
  {
   "cell_type": "code",
   "execution_count": 16,
   "metadata": {},
   "outputs": [
    {
     "name": "stderr",
     "output_type": "stream",
     "text": [
      "Reward: 0.000: 100%|██████████| 101/101 [03:34<00:00,  2.12s/it]  \n"
     ]
    }
   ],
   "source": [
    "import matplotlib.pyplot as plt\n",
    "import torch\n",
    "from tqdm import tqdm\n",
    "\n",
    "\n",
    "state_dim = 3\n",
    "action_dim = 3\n",
    "\n",
    "episode_count = 100\n",
    "\n",
    "\n",
    "env = TradingEnvironment(data=X_train)\n",
    "agent = Agent(state_dim=state_dim, action_dim=action_dim, n_epochs=10, batch_size=16)\n",
    "\n",
    "episode_rewards = []\n",
    "\n",
    "number_of_buy_actions = []\n",
    "number_of_sell_actions = []\n",
    "number_of_hold_actions = []\n",
    "\n",
    "pbar = tqdm(range(episode_count + 1), desc='Training Progress')\n",
    "for episode in pbar:\n",
    "    state = env.reset()  # State is now a torch tensor\n",
    "    total_episode_reward = 0\n",
    "\n",
    "    buy_action_count = 0\n",
    "    sell_action_count = 0\n",
    "    hold_action_count = 0\n",
    "\n",
    "    while True:\n",
    "        \n",
    "        action, log_prob = agent.act(state)\n",
    "        next_state, reward, done, _ = env.step(action)\n",
    "\n",
    "        if action == 1:\n",
    "            buy_action_count += 1\n",
    "        elif action == 2:\n",
    "            sell_action_count += 1\n",
    "        else:\n",
    "            hold_action_count += 1\n",
    "        \n",
    "        # Store transition in agent memory as tensors\n",
    "        agent.store_transition(state, action, log_prob, reward, done)\n",
    "        \n",
    "        state = next_state\n",
    "        total_episode_reward += reward\n",
    "\n",
    "\n",
    "        if done:\n",
    "            break\n",
    "\n",
    "    agent.learn()\n",
    "\n",
    "    episode_rewards.append(total_episode_reward)\n",
    "\n",
    "    number_of_buy_actions.append(buy_action_count)\n",
    "    number_of_sell_actions.append(sell_action_count)\n",
    "    number_of_hold_actions.append(hold_action_count)\n",
    "\n",
    "    pbar.set_description(f\"Reward: {total_episode_reward:.3f}\")\n",
    "    pbar.refresh()"
   ]
  },
  {
   "cell_type": "code",
   "execution_count": 17,
   "metadata": {},
   "outputs": [
    {
     "data": {
      "image/png": "[encoded data removed]",
      "text/plain": [
       "<Figure size 640x480 with 1 Axes>"
      ]
     },
     "metadata": {},
     "output_type": "display_data"
    },
    {
     "data": {
      "text/plain": [
       "<matplotlib.legend.Legend at 0x14f2b3380>"
      ]
     },
     "execution_count": 17,
     "metadata": {},
     "output_type": "execute_result"
    },
    {
     "data": {
      "image/png": "[encoded data removed]",
      "text/plain": [
       "<Figure size 640x480 with 1 Axes>"
      ]
     },
     "metadata": {},
     "output_type": "display_data"
    }
   ],
   "source": [
    "# plot the rewards over episodes\n",
    "plt.plot(episode_rewards)\n",
    "plt.title('Rewards Over Episodes')\n",
    "plt.xlabel('Episode')\n",
    "plt.ylabel('Total Reward')\n",
    "plt.ylim(-1000, 1000)\n",
    "plt.axhline(y=0, color='k', linestyle='--')\n",
    "plt.show()\n",
    "\n",
    "# plot the number of actions over episodes\n",
    "plt.plot(number_of_buy_actions, label='Buy Actions')\n",
    "plt.plot(number_of_sell_actions, label='Sell Actions')\n",
    "plt.plot(number_of_hold_actions, label='Hold Actions')\n",
    "plt.title('Actions Over Episodes')\n",
    "plt.xlabel('Episode')\n",
    "plt.ylabel('Number of Actions')\n",
    "plt.legend()"
   ]
  },
  {
   "cell_type": "markdown",
   "metadata": {},
   "source": [
    "---"
   ]
  }
 ],
 "metadata": {
  "kernelspec": {
   "display_name": "ml",
   "language": "python",
   "name": "python3"
  },
  "language_info": {
   "codemirror_mode": {
    "name": "ipython",
    "version": 3
   },
   "file_extension": ".py",
   "mimetype": "text/x-python",
   "name": "python",
   "nbconvert_exporter": "python",
   "pygments_lexer": "ipython3",
   "version": "3.12.2"
  }
 },
 "nbformat": 4,
 "nbformat_minor": 2
}
