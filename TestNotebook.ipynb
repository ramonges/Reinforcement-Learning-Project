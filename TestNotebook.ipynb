{
 "cells": [
  {
   "cell_type": "code",
   "execution_count": null,
   "metadata": {},
   "outputs": [],
   "source": [
    "import pandas as pd\n",
    "import ta\n",
    "import matplotlib.pyplot as plt\n",
    "import numpy as np"
   ]
  },
  {
   "cell_type": "code",
   "execution_count": null,
   "metadata": {},
   "outputs": [],
   "source": [
    "gaz = pd.read_csv('Data/Dutch TTF Natural Gas Futures - Données Historiques (1).csv')\n",
    "gaz['Date']=pd.to_datetime(gaz['Date'])\n",
    "lists = ['Dernier', 'Ouv.', ' Plus Haut', 'Plus Bas', 'Vol.','Variation %']\n",
    "for i in lists: \n",
    "    gaz[i] = gaz[i].str.replace(',', '.')\n",
    "gaz.columns"
   ]
  },
  {
   "cell_type": "code",
   "execution_count": null,
   "metadata": {},
   "outputs": [],
   "source": [
    "gaz['Dernier'] = pd.to_numeric(gaz['Dernier'], errors='coerce')\n",
    "\n",
    "gaz['rsi'] = ta.momentum.rsi(gaz['Dernier'], window=14)\n",
    "gaz['macd'] = ta.trend.macd_diff(gaz['Dernier'])\n",
    "gaz['ema20'] = ta.trend.ema_indicator(gaz['Dernier'], window=20)\n",
    "gaz['ema50'] = ta.trend.ema_indicator(gaz['Dernier'], window=50)\n",
    "\n",
    "gaz"
   ]
  },
  {
   "cell_type": "code",
   "execution_count": null,
   "metadata": {},
   "outputs": [],
   "source": [
    "def convert_k_m_to_numeric(value):\n",
    "    \"\"\"\n",
    "    Convert values with 'K' or 'M' suffix to float numbers.\n",
    "    Args:\n",
    "    - value: The string or numeric value to convert.\n",
    "    \n",
    "    Returns:\n",
    "    - The converted value as float if 'K' or 'M' was found; otherwise, the original value.\n",
    "    \"\"\"\n",
    "    if isinstance(value, str):  # Only process strings\n",
    "        if value.endswith('K'):\n",
    "            return float(value[:-1]) * 1e3\n",
    "        elif value.endswith('M'):\n",
    "            return float(value[:-1]) * 1e6\n",
    "    return value"
   ]
  },
  {
   "cell_type": "code",
   "execution_count": null,
   "metadata": {},
   "outputs": [],
   "source": [
    "gaz['Vol.'] = gaz['Vol.'].apply(convert_k_m_to_numeric)\n",
    "for column in gaz.columns:\n",
    "    gaz[column] = pd.to_numeric(gaz[column], errors='coerce')\n",
    "assert gaz.applymap(np.isreal).all().all(), \"Non-numeric data found in the dataset.\""
   ]
  },
  {
   "cell_type": "code",
   "execution_count": null,
   "metadata": {},
   "outputs": [],
   "source": [
    "from src.Features import FeatureEngineer\n",
    "\n",
    "feature_engineer = FeatureEngineer(gaz)\n",
    "\n",
    "feature_engineer.calculate_technical_indicators()  # Calculate RSI, MACD, EMA20, EMA50\n",
    "\n",
    "feature_engineer.normalize_features()  # Normalize the features\n",
    "features_vector = feature_engineer.construct_feature_vector()  # Get the feature vector"
   ]
  },
  {
   "cell_type": "code",
   "execution_count": null,
   "metadata": {},
   "outputs": [],
   "source": [
    "# make a copy of gaz and fill NaN values with 0\n",
    "gaz_copy = gaz.copy()\n",
    "gaz_copy.fillna(0, inplace=True)\n",
    "\n",
    "gaz_copy.head()"
   ]
  },
  {
   "cell_type": "code",
   "execution_count": null,
   "metadata": {},
   "outputs": [],
   "source": [
    "import numpy as np\n",
    "import pandas as pd\n",
    "\n",
    "from src.Environment import TradingEnvironment\n",
    "\n",
    "\n",
    "# Example usage:\n",
    "\n",
    "# Define a simple policy function (replace this with your PPO agent's policy for real testing)\n",
    "def sample_policy(state):\n",
    "    # This is a dummy policy that randomly decides to buy, hold, or sell\n",
    "    return np.random.uniform(-1, 1)\n",
    "\n",
    "# Assuming 'gaz_data' is your preprocessed DataFrame including 'Dernier' prices and any features\n",
    "env = TradingEnvironment(gaz)\n",
    "backtest_history = env.run_backtest(sample_policy)\n"
   ]
  },
  {
   "cell_type": "code",
   "execution_count": null,
   "metadata": {},
   "outputs": [],
   "source": [
    "from src.Agent import PPOAgent\n",
    "from src.ActorCritic import Actor, Critic\n",
    "\n",
    "\n",
    "\n",
    "# Define the environment and PPO agent parameters\n",
    "state_size = 100  # Assume 100 features for the state\n",
    "action_size = 1  # Buy/sell quantity as a single action\n",
    "action_bound = 1  # Action limit (e.g., normalized quantity between -1 and 1)\n",
    "\n",
    "# Instantiate the PPOAgent\n",
    "agent = PPOAgent(state_size=env.state_space, action_size=env.action_space, action_bound=1)\n",
    "\n",
    "# Now you can access actor and critic through the agent object\n",
    "actor_model = Actor(state_size=100, action_size=1, action_bound=1)\n",
    "critic_model = Critic(state_size=100)\n",
    "\n",
    "# summary(actor_model, input_size=(1, 100))\n",
    "# summary(critic_model, input_size=(1, 101))\n",
    "\n",
    "# critic_model.summary()\n",
    "print(actor_model)\n",
    "print(critic_model)"
   ]
  },
  {
   "cell_type": "code",
   "execution_count": null,
   "metadata": {},
   "outputs": [],
   "source": [
    "import wandb\n",
    "from src.Training import train_agent , run_simulation\n",
    "\n",
    "wandb.init(project=\"RL Trading\", config={\n",
    "    \"episodes\": 1000,\n",
    "    \"learning_rate_actor\": 1e-4,\n",
    "    \"learning_rate_critic\": 1e-3,\n",
    "    # Add other relevant configuration parameters here\n",
    "})\n",
    "config = wandb.config\n",
    "\n",
    "\n",
    "env = TradingEnvironment(gaz_copy)\n",
    "agent = PPOAgent(state_size=env.state_space, action_size=env.action_space, action_bound=1)\n",
    "\n",
    "# Proceed with training and running the simulation\n",
    "train_agent(env, agent)\n",
    "run_simulation(env, agent)"
   ]
  }
 ],
 "metadata": {
  "kernelspec": {
   "display_name": "ml",
   "language": "python",
   "name": "python3"
  },
  "language_info": {
   "codemirror_mode": {
    "name": "ipython",
    "version": 3
   },
   "file_extension": ".py",
   "mimetype": "text/x-python",
   "name": "python",
   "nbconvert_exporter": "python",
   "pygments_lexer": "ipython3",
   "version": "3.12.2"
  }
 },
 "nbformat": 4,
 "nbformat_minor": 2
}
